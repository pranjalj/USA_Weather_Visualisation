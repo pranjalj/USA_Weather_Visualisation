{
 "cells": [
  {
   "cell_type": "markdown",
   "metadata": {},
   "source": [
    "<h1 align=\"center\"> Group 17 </h1> "
   ]
  },
  {
   "cell_type": "markdown",
   "metadata": {},
   "source": [
    "<h2>Presentors :\n",
    "<br>Pranjal Jain\n",
    "<br>Samratsinh Dhumal\n",
    "<br>Snigdh Chandra</h2>"
   ]
  },
  {
   "cell_type": "markdown",
   "metadata": {},
   "source": [
    "## Phase 1:Creating Database."
   ]
  },
  {
   "cell_type": "markdown",
   "metadata": {},
   "source": [
    "### importing packages"
   ]
  },
  {
   "cell_type": "code",
   "execution_count": null,
   "metadata": {},
   "outputs": [],
   "source": [
    "import os\n",
    "import re\n",
    "import csv\n",
    "import sqlite3\n",
    "from sqlite3 import Error\n",
    "import pandas as pd\n",
    "import matplotlib.pyplot as plt\n",
    "import matplotlib.dates as mdates\n",
    "plt.style.use('fivethirtyeight')\n",
    "import seaborn as sns\n",
    "from datetime import datetime\n",
    "import plotly.express as px\n",
    "import plotly.graph_objects as go\n",
    "import ipywidgets as widgets\n",
    "from ipywidgets import interact, interact_manual\n",
    "from IPython.display import clear_output\n",
    "%matplotlib inline"
   ]
  },
  {
   "cell_type": "markdown",
   "metadata": {},
   "source": [
    "### Connecting to SQLite Function"
   ]
  },
  {
   "cell_type": "code",
   "execution_count": null,
   "metadata": {},
   "outputs": [],
   "source": [
    "def create_connection(db_file, delete_db=False):\n",
    "    if delete_db and os.path.exists(db_file):\n",
    "        os.remove(db_file)\n",
    "    conn = None\n",
    "    try:\n",
    "        conn = sqlite3.connect(db_file)\n",
    "        conn.execute(\"PRAGMA foreign_keys = 1\")\n",
    "    except Error as e:\n",
    "        print(e)\n",
    "\n",
    "    return conn"
   ]
  },
  {
   "cell_type": "markdown",
   "metadata": {},
   "source": [
    "### Creating New Table Function"
   ]
  },
  {
   "cell_type": "code",
   "execution_count": null,
   "metadata": {},
   "outputs": [],
   "source": [
    "def create_table(conn, create_table_sql):\n",
    "    try:\n",
    "        c = conn.cursor()\n",
    "        c.execute(create_table_sql)\n",
    "    except Error as e:\n",
    "        print(e)"
   ]
  },
  {
   "cell_type": "markdown",
   "metadata": {},
   "source": [
    "### Selecting from Table Function"
   ]
  },
  {
   "cell_type": "code",
   "execution_count": null,
   "metadata": {},
   "outputs": [],
   "source": [
    "def select(conn,selct_sql):\n",
    "    cur = conn.cursor()\n",
    "    try:\n",
    "        cur.execute(selct_sql)\n",
    "        names = list(map(lambda x: x[0], cur.description))\n",
    "        rows = cur.fetchall()\n",
    "    except Error as e:\n",
    "        names = e\n",
    "        rows = []\n",
    "    return [names,rows]"
   ]
  },
  {
   "cell_type": "markdown",
   "metadata": {},
   "source": [
    "### Deleting from Table Function"
   ]
  },
  {
   "cell_type": "code",
   "execution_count": null,
   "metadata": {},
   "outputs": [],
   "source": [
    "def delete(conn,delete_sql):\n",
    "    cur = conn.cursor()\n",
    "    try:\n",
    "        cur.execute(delete_sql)\n",
    "        print(\"deleted\")\n",
    "    except Error as e:\n",
    "        print(\"not deleted\")"
   ]
  },
  {
   "cell_type": "markdown",
   "metadata": {},
   "source": [
    "### Update Table function"
   ]
  },
  {
   "cell_type": "code",
   "execution_count": null,
   "metadata": {},
   "outputs": [],
   "source": [
    "def update(conn,update_sql):\n",
    "    cur = conn.cursor()\n",
    "    try:\n",
    "        cur.execute(update_sql)\n",
    "        #names = list(map(lambda x: x[0], cur.description))\n",
    "        #rows = cur.fetchall()\n",
    "        conn.commit()\n",
    "    except Error as e:\n",
    "        print(\"Failed to update\")"
   ]
  },
  {
   "cell_type": "markdown",
   "metadata": {},
   "source": [
    "### Create View"
   ]
  },
  {
   "cell_type": "code",
   "execution_count": 7,
   "metadata": {},
   "outputs": [],
   "source": [
    "def create_view(conn, create_view_sql):\n",
    "    try:\n",
    "        c = conn.cursor()\n",
    "        c.execute(create_view_sql)\n",
    "    except Error as e:\n",
    "        print(e)"
   ]
  },
  {
   "cell_type": "markdown",
   "metadata": {},
   "source": [
    "### Converting csv File to SQLite File Function"
   ]
  },
  {
   "cell_type": "code",
   "execution_count": 8,
   "metadata": {},
   "outputs": [],
   "source": [
    "def save_as_sql(file,conn,table_name,index=False):\n",
    "    read_csv = pd.read_csv(file)\n",
    "    read_csv.to_sql(table_name, conn, index)"
   ]
  },
  {
   "cell_type": "markdown",
   "metadata": {},
   "source": [
    "## Creating Connection"
   ]
  },
  {
   "cell_type": "code",
   "execution_count": 9,
   "metadata": {},
   "outputs": [],
   "source": [
    "conn = create_connection('weather_data',True)"
   ]
  },
  {
   "cell_type": "markdown",
   "metadata": {},
   "source": [
    "## Saving Tables"
   ]
  },
  {
   "cell_type": "code",
   "execution_count": 10,
   "metadata": {},
   "outputs": [
    {
     "name": "stderr",
     "output_type": "stream",
     "text": [
      "/Applications/anaconda3/lib/python3.7/site-packages/pandas/core/generic.py:2712: UserWarning:\n",
      "\n",
      "The spaces in these column names will not be changed. In pandas versions < 0.14, spaces were converted to underscores.\n",
      "\n"
     ]
    }
   ],
   "source": [
    "'''save_as_sql('Dataset/historical-hourly-weather-data/city_attributes.csv',conn,'cities',False)\n",
    "save_as_sql('Dataset/historical-hourly-weather-data/humidity.csv',conn,'humidity',False)\n",
    "save_as_sql('Dataset/historical-hourly-weather-data/pressure.csv',conn,'pressure',False)\n",
    "save_as_sql('Dataset/historical-hourly-weather-data/temperature.csv',conn,'temperature',False)\n",
    "save_as_sql('Dataset/historical-hourly-weather-data/weather_description.csv',conn,'weather_description',False)\n",
    "save_as_sql('Dataset/historical-hourly-weather-data/wind_direction.csv',conn,'wind_direction',False)\n",
    "save_as_sql('Dataset/historical-hourly-weather-data/wind_speed.csv',conn,'wind_speed',False)\n",
    "save_as_sql('Dataset/USA_Historical_Tornado.csv',conn,'USA_Historical_Tornado',False)\n",
    "save_as_sql('Dataset/USA_CityCoordinates.csv',conn,'USA_City_Coordinates',False)'''\n",
    "\n",
    "save_as_sql('humidity.csv',conn,'humidity',False)\n",
    "save_as_sql('city_attributes.csv',conn,'cities',False)\n",
    "save_as_sql('pressure.csv',conn,'pressure',False)\n",
    "save_as_sql('temperature.csv',conn,'temperature',False)\n",
    "save_as_sql('weather_description.csv',conn,'weather_description',False)\n",
    "save_as_sql('wind_direction.csv',conn,'wind_direction',False)\n",
    "save_as_sql('wind_speed.csv',conn,'wind_speed',False)\n",
    "save_as_sql('USA_Historical_Tornado.csv',conn,'USA_Historical_Tornado',False)\n",
    "save_as_sql('USA_CityCoordinates.csv',conn,'USA_City_Coordinates',False)"
   ]
  },
  {
   "cell_type": "markdown",
   "metadata": {},
   "source": [
    "## Data Cleaning Process"
   ]
  },
  {
   "cell_type": "markdown",
   "metadata": {},
   "source": [
    "### deleting cities other than USA, empty rows, and cities with major missing values"
   ]
  },
  {
   "cell_type": "code",
   "execution_count": 11,
   "metadata": {},
   "outputs": [
    {
     "name": "stdout",
     "output_type": "stream",
     "text": [
      "deleted\n",
      "deleted\n",
      "deleted\n",
      "deleted\n",
      "deleted\n",
      "deleted\n",
      "deleted\n",
      "deleted\n",
      "deleted\n"
     ]
    }
   ],
   "source": [
    "delete(conn,\"DELETE FROM cities WHERE country != 'United States'\")\n",
    "delete(conn,\"DELETE FROM cities WHERE City = 'San Francisco'\")\n",
    "delete(conn,\"DELETE FROM cities WHERE City = 'Miami'\")\n",
    "delete(conn,\"DELETE FROM cities WHERE City = 'New York'\")\n",
    "delete(conn,\"Delete FROM humidity where datetime = '2012-10-01 12:00:00'\")\n",
    "delete(conn,\"Delete FROM pressure where datetime = '2012-10-01 12:00:00'\")\n",
    "delete(conn,\"Delete FROM wind_speed where datetime = '2012-10-01 12:00:00'\")\n",
    "delete(conn,\"Delete FROM wind_direction where datetime = '2012-10-01 12:00:00'\")\n",
    "delete(conn,\"Delete FROM temperature where datetime = '2012-10-01 12:00:00'\")"
   ]
  },
  {
   "cell_type": "markdown",
   "metadata": {},
   "source": [
    "### Selcting all Cities of USA"
   ]
  },
  {
   "cell_type": "code",
   "execution_count": 12,
   "metadata": {},
   "outputs": [],
   "source": [
    "[names,city_name] = select(conn,\"Select city from cities\")"
   ]
  },
  {
   "cell_type": "markdown",
   "metadata": {},
   "source": [
    "### Updating Null Values in Tables"
   ]
  },
  {
   "cell_type": "code",
   "execution_count": 13,
   "metadata": {},
   "outputs": [],
   "source": [
    "for city in city_name:\n",
    "    humidity_nullvalues_update = \"\"\"Update humidity set [\"\"\"+city[0]+\"\"\"] = (SELECT avg_val \n",
    "                                    from (Select AVG(h2.[\"\"\"+city[0]+\"\"\"]) as avg_val, Substr(h2.datetime,1,7) \n",
    "                                    as tdatet FROM humidity as h2 group by Substr(h2.datetime,1,7)) as temp1 \n",
    "                                    where Substr(humidity.datetime,1,7)=temp1.tdatet)\n",
    "                                    where datetime not in (SELECT h1.datetime FROM \n",
    "                                    humidity as h1 where [\"\"\"+city[0]+\"\"\"] >= 0)\"\"\"\n",
    "    update(conn,humidity_nullvalues_update)\n",
    "\n",
    "    temperature_nullvalues_update = \"\"\"Update temperature set [\"\"\"+city[0]+\"\"\"] = (SELECT avg_val \n",
    "                                       from (Select AVG(t2.[\"\"\"+city[0]+\"\"\"]) as avg_val, Substr(t2.datetime,1,7) as tdatet FROM temperature as t2 group by Substr(t2.datetime,1,7)) as temp1 \n",
    "                                       where Substr(temperature.datetime,1,7)=temp1.tdatet)\n",
    "    where datetime not in (SELECT t2.datetime FROM temperature as t2 where  [\"\"\"+city[0]+\"\"\"] >= 0)\"\"\"\n",
    "    update(conn,temperature_nullvalues_update)\n",
    "    \n",
    "    pressure_nullvalues_update = \"\"\"Update pressure set [\"\"\"+city[0]+\"\"\"] = (SELECT avg_val \n",
    "                                       from (Select AVG(p2.[\"\"\"+city[0]+\"\"\"]) as avg_val, Substr(p2.datetime,1,7) as tdatet FROM pressure as p2 group by Substr(p2.datetime,1,7)) as temp1 \n",
    "                                       where Substr(pressure.datetime,1,7)=temp1.tdatet)\n",
    "    where datetime not in (SELECT p2.datetime FROM pressure as p2 where  [\"\"\"+city[0]+\"\"\"] >= 0)\"\"\"\n",
    "    update(conn,pressure_nullvalues_update)\n",
    "    \n",
    "    winddir_nullvalues_update = \"\"\"Update wind_direction set [\"\"\"+city[0]+\"\"\"] = (SELECT avg_val \n",
    "                                       from (Select AVG(wd2.[\"\"\"+city[0]+\"\"\"]) as avg_val, Substr(wd2.datetime,1,7) as tdatet FROM wind_direction as wd2 group by Substr(wd2.datetime,1,7)) as temp1 \n",
    "                                       where Substr(wind_direction.datetime,1,7)=temp1.tdatet)\n",
    "    where datetime not in (SELECT wd2.datetime FROM wind_direction as wd2 where  [\"\"\"+city[0]+\"\"\"] >= 0)\"\"\"\n",
    "    update(conn,winddir_nullvalues_update)\n",
    "    \n",
    "    windsp_nullvalues_update = \"\"\"Update wind_speed set [\"\"\"+city[0]+\"\"\"] = (SELECT avg_val \n",
    "                                       from (Select AVG(ws2.[\"\"\"+city[0]+\"\"\"]) as avg_val, Substr(ws2.datetime,1,7) as tdatet FROM wind_speed as ws2 group by Substr(ws2.datetime,1,7)) as temp1 \n",
    "                                       where Substr(wind_speed.datetime,1,7)=temp1.tdatet)\n",
    "    where datetime not in (SELECT ws2.datetime FROM wind_speed as ws2 where  [\"\"\"+city[0]+\"\"\"] >= 0)\"\"\"\n",
    "    update(conn,windsp_nullvalues_update)"
   ]
  },
  {
   "cell_type": "markdown",
   "metadata": {},
   "source": [
    "### Function to Round City Coordinate to Join Two Tables  "
   ]
  },
  {
   "cell_type": "code",
   "execution_count": 14,
   "metadata": {},
   "outputs": [],
   "source": [
    "def coord_round_dwn(a):\n",
    "    if(a<0):\n",
    "        b = math.floor(abs(a));\n",
    "        return (b*(-1));\n",
    "    else:\n",
    "        return (round(a))\n",
    "    \n",
    "def getcities(tl):\n",
    "    att = {}\n",
    "    for at in tl:\n",
    "        if(at in att):\n",
    "            att[at] = att[at]+1;\n",
    "        else:\n",
    "            att[at] = 1\n",
    "    #print(att)\n",
    "    return(list(att.keys()))"
   ]
  },
  {
   "cell_type": "markdown",
   "metadata": {},
   "source": [
    "### Rounding Coordinate"
   ]
  },
  {
   "cell_type": "code",
   "execution_count": 15,
   "metadata": {},
   "outputs": [],
   "source": [
    "import math\n",
    "str = '''Select U2.City,U2.Latitude,U2.Longitude,U1.state_name,U1.lat,U1.lng \n",
    "        from USA_City_Coordinates as U1 INNER JOIN cities as U2 on U1.city = U2.City \n",
    "        WHERE U2.Country='United States' and \n",
    "        round(U1.lat) = round(U2.Latitude) and \n",
    "        round(U1.lng) = round(U2.Longitude)'''\n",
    "\n",
    "[a,b] = select(conn,str)\n",
    "lama = []\n",
    "asas = []\n",
    "for l1 in b:\n",
    "    l = (l1[0],coord_round_dwn(l1[1]),coord_round_dwn(l1[2]),l1[3],coord_round_dwn(l1[4]),coord_round_dwn(l1[5]))\n",
    "    lama.append(l)\n",
    "    asas.append(l[0])\n",
    "final_cities = getcities(asas)"
   ]
  },
  {
   "cell_type": "markdown",
   "metadata": {},
   "source": [
    "### Creating a joint table for all data"
   ]
  },
  {
   "cell_type": "code",
   "execution_count": 16,
   "metadata": {},
   "outputs": [],
   "source": [
    "for city in city_name:\n",
    "    str = \"\"\"CREATE VIEW [\"\"\"+city[0]+\"\"\"_info] \n",
    "            (DateTime,Humidity,Weather_Description,Pressure,Temperature,Wind_Direction,Wind_Speed)\n",
    "             AS \n",
    "             Select h1.datetime,h1.[\"\"\"+city[0]+\"\"\"] as Humidity,wd1.[\"\"\"+city[0]+\"\"\"] as Weather_Description,\n",
    "             p1.[\"\"\"+city[0]+\"\"\"] as Pressure,t1.[\"\"\"+city[0]+\"\"\"] as Temperature,widir.[\"\"\"+city[0]+\"\"\"] as Wind_Direction,\n",
    "             wsp.[\"\"\"+city[0]+\"\"\"] as Wind_Speed\n",
    "             from humidity as h1 \n",
    "             INNER JOIN weather_description as wd1 on h1.datetime=wd1.datetime \n",
    "             INNER JOIN pressure as p1 on h1.datetime=p1.datetime \n",
    "             INNER JOIN temperature as t1 on h1.datetime=t1.datetime \n",
    "             INNER JOIN wind_direction as widir on h1.datetime=widir.datetime \n",
    "             INNER JOIN wind_speed as wsp on h1.datetime=wsp.datetime\"\"\"\n",
    "    \n",
    "    (create_view(conn,str))"
   ]
  },
  {
   "cell_type": "markdown",
   "metadata": {},
   "source": [
    "### Displaying cities  "
   ]
  },
  {
   "cell_type": "code",
   "execution_count": 17,
   "metadata": {},
   "outputs": [
    {
     "name": "stdout",
     "output_type": "stream",
     "text": [
      "{0: 'Portland', 1: 'Seattle', 2: 'Los Angeles', 3: 'San Diego', 4: 'Las Vegas', 5: 'Phoenix', 6: 'Albuquerque', 7: 'Denver', 8: 'San Antonio', 9: 'Dallas', 10: 'Houston', 11: 'Kansas City', 12: 'Minneapolis', 13: 'Saint Louis', 14: 'Chicago', 15: 'Nashville', 16: 'Indianapolis', 17: 'Atlanta', 18: 'Detroit', 19: 'Jacksonville', 20: 'Charlotte', 21: 'Pittsburgh', 22: 'Philadelphia', 23: 'Boston'}\n"
     ]
    }
   ],
   "source": [
    "str2 = \"SELECT name FROM sqlite_master WHERE type = 'view'\"\n",
    "[temp1,temp2] = select(conn,str2)\n",
    "cityview_list = []\n",
    "cityview_dict = {}\n",
    "i = 0\n",
    "for temp3 in temp2:\n",
    "    cityview_list.append(temp3[0])\n",
    "    cityview_dict[i] = temp3[0][:-5]\n",
    "    i = i + 1\n",
    "print(cityview_dict)"
   ]
  },
  {
   "cell_type": "code",
   "execution_count": 18,
   "metadata": {},
   "outputs": [
    {
     "name": "stdout",
     "output_type": "stream",
     "text": [
      "Please enter index number for desired city values:\n"
     ]
    },
    {
     "ename": "ValueError",
     "evalue": "invalid literal for int() with base 10: ''",
     "output_type": "error",
     "traceback": [
      "\u001b[0;31m---------------------------------------------------------------------------\u001b[0m",
      "\u001b[0;31mValueError\u001b[0m                                Traceback (most recent call last)",
      "\u001b[0;32m<ipython-input-18-03e76a645bda>\u001b[0m in \u001b[0;36m<module>\u001b[0;34m\u001b[0m\n\u001b[0;32m----> 1\u001b[0;31m \u001b[0mindex1\u001b[0m \u001b[0;34m=\u001b[0m \u001b[0mint\u001b[0m\u001b[0;34m(\u001b[0m\u001b[0minput\u001b[0m\u001b[0;34m(\u001b[0m\u001b[0;34m\"Please enter index number for desired city values:\"\u001b[0m\u001b[0;34m)\u001b[0m\u001b[0;34m)\u001b[0m\u001b[0;34m\u001b[0m\u001b[0;34m\u001b[0m\u001b[0m\n\u001b[0m\u001b[1;32m      2\u001b[0m \u001b[0mprint\u001b[0m\u001b[0;34m(\u001b[0m\u001b[0;34m'\\033[1m'\u001b[0m\u001b[0;34m+\u001b[0m\u001b[0mcityview_dict\u001b[0m\u001b[0;34m[\u001b[0m\u001b[0mindex1\u001b[0m\u001b[0;34m]\u001b[0m\u001b[0;34m+\u001b[0m\u001b[0;34m\" Data\"\u001b[0m\u001b[0;34m)\u001b[0m\u001b[0;34m\u001b[0m\u001b[0;34m\u001b[0m\u001b[0m\n\u001b[1;32m      3\u001b[0m \u001b[0mcity_val\u001b[0m \u001b[0;34m=\u001b[0m \u001b[0mcityview_list\u001b[0m\u001b[0;34m[\u001b[0m\u001b[0mindex1\u001b[0m\u001b[0;34m]\u001b[0m\u001b[0;34m\u001b[0m\u001b[0;34m\u001b[0m\u001b[0m\n\u001b[1;32m      4\u001b[0m \u001b[0mstr3\u001b[0m \u001b[0;34m=\u001b[0m \u001b[0;34m\"SELECT * FROM [\"\u001b[0m\u001b[0;34m+\u001b[0m\u001b[0mcity_val\u001b[0m\u001b[0;34m+\u001b[0m\u001b[0;34m\"]\"\u001b[0m\u001b[0;34m;\u001b[0m\u001b[0;34m\u001b[0m\u001b[0;34m\u001b[0m\u001b[0m\n\u001b[1;32m      5\u001b[0m \u001b[0mcity_df\u001b[0m \u001b[0;34m=\u001b[0m \u001b[0mpd\u001b[0m\u001b[0;34m.\u001b[0m\u001b[0mread_sql_query\u001b[0m\u001b[0;34m(\u001b[0m\u001b[0mstr3\u001b[0m\u001b[0;34m,\u001b[0m\u001b[0mconn\u001b[0m\u001b[0;34m)\u001b[0m\u001b[0;34m\u001b[0m\u001b[0;34m\u001b[0m\u001b[0m\n",
      "\u001b[0;31mValueError\u001b[0m: invalid literal for int() with base 10: ''"
     ]
    }
   ],
   "source": [
    "index1 = int(input(\"Please enter index number for desired city values:\"))\n",
    "print('\\033[1m'+cityview_dict[index1]+\" Data\")\n",
    "city_val = cityview_list[index1]\n",
    "str3 = \"SELECT * FROM [\"+city_val+\"]\";\n",
    "city_df = pd.read_sql_query(str3,conn)\n",
    "city_df"
   ]
  },
  {
   "cell_type": "markdown",
   "metadata": {},
   "source": [
    "### Ploting Given City and Parameter Over Years Function"
   ]
  },
  {
   "cell_type": "code",
   "execution_count": 19,
   "metadata": {},
   "outputs": [
    {
     "data": {
      "image/png": "[encoded data removed]",
      "text/plain": [
       "<Figure size 432x288 with 1 Axes>"
      ]
     },
     "metadata": {
      "needs_background": "light"
     },
     "output_type": "display_data"
    }
   ],
   "source": [
    "def years_plot(city='Portland',parameter='humidity',frequency = 'M'):\n",
    "    string = \"Select datetime,\\\"\"+city+\"\\\" from \"+ parameter +\";\"\n",
    "    [names,parameter_list] = select(conn,string)\n",
    "    \n",
    "    #converting to dataframe\n",
    "    city_parameter = pd.DataFrame(parameter_list)\n",
    "    \n",
    "    #setting datetime as index\n",
    "    city_parameter = city_parameter.set_index([0])\n",
    "    city_parameter.index = pd.to_datetime(city_parameter.index)\n",
    "    \n",
    "    #plot\n",
    "    city_parameter.asfreq(frequency).plot()\n",
    "    plt.title(parameter + ' in '+ city +' over time')\n",
    "    plt.xlabel('Years')\n",
    "    plt.ylabel('Value')\n",
    "    plt.show()\n",
    "\n",
    "##\n",
    "years_plot('Portland','humidity','M')"
   ]
  },
  {
   "cell_type": "markdown",
   "metadata": {},
   "source": [
    "### Ploting Given City and Parameter Over a Year Function"
   ]
  },
  {
   "cell_type": "code",
   "execution_count": 20,
   "metadata": {},
   "outputs": [
    {
     "ename": "TypeError",
     "evalue": "'str' object is not callable",
     "output_type": "error",
     "traceback": [
      "\u001b[0;31m---------------------------------------------------------------------------\u001b[0m",
      "\u001b[0;31mTypeError\u001b[0m                                 Traceback (most recent call last)",
      "\u001b[0;32m<ipython-input-20-e0b79dd3e4c3>\u001b[0m in \u001b[0;36m<module>\u001b[0;34m\u001b[0m\n\u001b[1;32m     19\u001b[0m \u001b[0;34m\u001b[0m\u001b[0m\n\u001b[1;32m     20\u001b[0m \u001b[0;31m##\u001b[0m\u001b[0;34m\u001b[0m\u001b[0;34m\u001b[0m\u001b[0;34m\u001b[0m\u001b[0m\n\u001b[0;32m---> 21\u001b[0;31m \u001b[0myearly_plot\u001b[0m\u001b[0;34m(\u001b[0m\u001b[0;34m'Portland'\u001b[0m\u001b[0;34m,\u001b[0m\u001b[0;34m'humidity'\u001b[0m\u001b[0;34m,\u001b[0m\u001b[0;34m'W'\u001b[0m\u001b[0;34m,\u001b[0m\u001b[0;36m2016\u001b[0m\u001b[0;34m)\u001b[0m\u001b[0;34m\u001b[0m\u001b[0;34m\u001b[0m\u001b[0m\n\u001b[0m",
      "\u001b[0;32m<ipython-input-20-e0b79dd3e4c3>\u001b[0m in \u001b[0;36myearly_plot\u001b[0;34m(city, parameter, frequency, year)\u001b[0m\n\u001b[1;32m      1\u001b[0m \u001b[0;32mdef\u001b[0m \u001b[0myearly_plot\u001b[0m\u001b[0;34m(\u001b[0m\u001b[0mcity\u001b[0m\u001b[0;34m=\u001b[0m\u001b[0;34m'Portland'\u001b[0m\u001b[0;34m,\u001b[0m\u001b[0mparameter\u001b[0m\u001b[0;34m=\u001b[0m\u001b[0;34m'humidity'\u001b[0m\u001b[0;34m,\u001b[0m\u001b[0mfrequency\u001b[0m \u001b[0;34m=\u001b[0m \u001b[0;34m'M'\u001b[0m\u001b[0;34m,\u001b[0m\u001b[0myear\u001b[0m\u001b[0;34m=\u001b[0m\u001b[0;36m2016\u001b[0m\u001b[0;34m)\u001b[0m\u001b[0;34m:\u001b[0m\u001b[0;34m\u001b[0m\u001b[0;34m\u001b[0m\u001b[0m\n\u001b[0;32m----> 2\u001b[0;31m     \u001b[0mstring\u001b[0m \u001b[0;34m=\u001b[0m \u001b[0;34m\"Select datetime,\\\"\"\u001b[0m\u001b[0;34m+\u001b[0m\u001b[0mcity\u001b[0m\u001b[0;34m+\u001b[0m\u001b[0;34m\"\\\" from \"\u001b[0m\u001b[0;34m+\u001b[0m \u001b[0mparameter\u001b[0m \u001b[0;34m+\u001b[0m\u001b[0;34m\" WHERE datetime LIKE '\"\u001b[0m\u001b[0;34m+\u001b[0m \u001b[0mstr\u001b[0m\u001b[0;34m(\u001b[0m\u001b[0myear\u001b[0m\u001b[0;34m)\u001b[0m \u001b[0;34m+\u001b[0m\u001b[0;34m\"%';\"\u001b[0m\u001b[0;34m\u001b[0m\u001b[0;34m\u001b[0m\u001b[0m\n\u001b[0m\u001b[1;32m      3\u001b[0m     \u001b[0;34m[\u001b[0m\u001b[0mnames\u001b[0m\u001b[0;34m,\u001b[0m\u001b[0mparameter_list\u001b[0m\u001b[0;34m]\u001b[0m \u001b[0;34m=\u001b[0m \u001b[0mselect\u001b[0m\u001b[0;34m(\u001b[0m\u001b[0mconn\u001b[0m\u001b[0;34m,\u001b[0m\u001b[0mstring\u001b[0m\u001b[0;34m)\u001b[0m\u001b[0;34m\u001b[0m\u001b[0;34m\u001b[0m\u001b[0m\n\u001b[1;32m      4\u001b[0m \u001b[0;34m\u001b[0m\u001b[0m\n\u001b[1;32m      5\u001b[0m     \u001b[0;31m#converting to dataframe\u001b[0m\u001b[0;34m\u001b[0m\u001b[0;34m\u001b[0m\u001b[0;34m\u001b[0m\u001b[0m\n",
      "\u001b[0;31mTypeError\u001b[0m: 'str' object is not callable"
     ]
    }
   ],
   "source": [
    "def yearly_plot(city='Portland',parameter='humidity',frequency = 'M',year=2016):  \n",
    "    string = \"Select datetime,\\\"\"+city+\"\\\" from \"+ parameter +\" WHERE datetime LIKE '\"+ str(year) +\"%';\"\n",
    "    [names,parameter_list] = select(conn,string)\n",
    "    \n",
    "    #converting to dataframe\n",
    "    city_parameter = pd.DataFrame(parameter_list)\n",
    "    \n",
    "    #setting datetime as index\n",
    "    city_parameter = city_parameter.set_index([0])\n",
    "    city_parameter.index = pd.to_datetime(city_parameter.index)\n",
    "    \n",
    "    #plot\n",
    "    city_parameter.asfreq(frequency).plot()\n",
    "    plt.title(parameter + ' in '+ city +' City over time for a year' + str(year))\n",
    "    plt.xlabel('Month')\n",
    "    plt.ylabel('Value')\n",
    "    plt.show()\n",
    "\n",
    "    \n",
    "##\n",
    "yearly_plot('Portland','humidity','W',2016)"
   ]
  },
  {
   "cell_type": "markdown",
   "metadata": {},
   "source": [
    "## Plotting Given City and Parameter over Year Stacked for Comparision"
   ]
  },
  {
   "cell_type": "code",
   "execution_count": null,
   "metadata": {
    "scrolled": true
   },
   "outputs": [],
   "source": [
    "'''def yearly_stacked_plot(city='Portland',parameter='humidity',frequency = 'M',years=[2016]):\n",
    "    for year in years: \n",
    "        string = \"Select datetime,\\\"\"+city+\"\\\" from \"+ parameter +\" WHERE datetime LIKE '\"+ str(year) +\"%';\"\n",
    "        [names,parameter_list] = select(conn,string)\n",
    "        \n",
    "        datetime = []\n",
    "        for element in parameter_list:\n",
    "            datetime.append(str(element)[7:21])\n",
    "            \n",
    "        city_datatime = pd.DataFrame(datetime)\n",
    "        \n",
    "        #converting to dataframe\n",
    "        city_parameter = pd.DataFrame(parameter_list)\n",
    "        \n",
    "        city_parameter['datetime'] = city_datatime\n",
    "        \n",
    "        #setting datetime as index\n",
    "        city_parameter = city_parameter.set_index(['datetime'])\n",
    "        city_parameter.index = pd.to_datetime(city_parameter.index,format=\"%m-%d %H:%M:%S\",errors='ignore')\n",
    "        \n",
    "        #plot\n",
    "        \n",
    "        city_parameter.asfreq(frequency).plot()\n",
    "        #plt.title(parameter + ' in '+ city +' City over time for a year' + str(year))\n",
    "\n",
    "##\n",
    "plt.figure(figsize =(20,20))\n",
    "yearly_stacked_plot('Portland','humidity','M',[2014,2015])\n",
    "'''"
   ]
  },
  {
   "cell_type": "markdown",
   "metadata": {},
   "source": [
    "### City Parameter Graph Function"
   ]
  },
  {
   "cell_type": "code",
   "execution_count": 21,
   "metadata": {},
   "outputs": [
    {
     "data": {
      "image/png": "[encoded data removed]",
      "text/plain": [
       "<Figure size 1440x1440 with 5 Axes>"
      ]
     },
     "metadata": {
      "needs_background": "light"
     },
     "output_type": "display_data"
    }
   ],
   "source": [
    "def city_parameter(city='Portland'):\n",
    "    \n",
    "    plt.figure(figsize =(20,20))\n",
    "    \n",
    "    #defining subplot\n",
    "    plt.subplot(3,3,1)\n",
    "    \n",
    "    string = \"Select datetime,\\\"\"+city+\"\\\" from pressure;\"\n",
    "    [names,pressure_list] = select(conn,string)\n",
    "    \n",
    "    #converting to dataframe\n",
    "    city_pressure = pd.DataFrame(pressure_list)\n",
    "    \n",
    "    #setting datetime as index\n",
    "    city_pressure = city_pressure.set_index([0])\n",
    "    city_pressure.index = pd.to_datetime(city_pressure.index)\n",
    "    \n",
    "    city_pressure = city_pressure.dropna()\n",
    "    \n",
    "    sns.distplot(city_pressure,color='blue')\n",
    "    plt.title('Distribution of pressure')\n",
    "    plt.xlabel('Freq')\n",
    "    plt.ylabel('Value')\n",
    "    \n",
    "    #defining subplot\n",
    "    plt.subplot(3,3,2)\n",
    "    \n",
    "    string = \"Select datetime,\\\"\"+city+\"\\\" from temperature;\"\n",
    "    [names,temperature_list] = select(conn,string)\n",
    "    \n",
    "    #converting to dataframe\n",
    "    city_temperature = pd.DataFrame(temperature_list)\n",
    "    \n",
    "    #setting datetime as index\n",
    "    city_temperature = city_temperature.set_index([0])\n",
    "    city_temperature.index = pd.to_datetime(city_temperature.index)\n",
    "    \n",
    "    city_temperature = city_temperature.dropna()\n",
    "    \n",
    "    sns.distplot(city_temperature,color='red')\n",
    "    plt.title('Distribution of temperature')\n",
    "    plt.xlabel('Freq')\n",
    "    plt.ylabel('Value')\n",
    "    \n",
    "    #defining subplot\n",
    "    plt.subplot(3,3,3)\n",
    "    \n",
    "    string = \"Select datetime,\\\"\"+city+\"\\\" from humidity;\"\n",
    "    [names,humidity_list] = select(conn,string)\n",
    "    \n",
    "    #converting to dataframe\n",
    "    city_humidity = pd.DataFrame(humidity_list)\n",
    "    \n",
    "    #setting datetime as index\n",
    "    city_humidity = city_humidity.set_index([0])\n",
    "    city_humidity.index = pd.to_datetime(city_humidity.index)\n",
    "    \n",
    "    city_humidity = city_humidity.dropna()\n",
    "    \n",
    "    sns.distplot(city_humidity,color='magenta')\n",
    "    plt.title('Distribution of humidity')\n",
    "    plt.xlabel('Freq')\n",
    "    plt.ylabel('Value')\n",
    "    \n",
    "    #defining subplot\n",
    "    plt.subplot(3,3,4)\n",
    "    \n",
    "    string = \"Select datetime,\\\"\"+city+\"\\\" from wind_speed;\"\n",
    "    [names,windspeed_list] = select(conn,string)\n",
    "    \n",
    "    #converting to dataframe\n",
    "    city_windspeed = pd.DataFrame(windspeed_list)\n",
    "    \n",
    "    #setting datetime as index\n",
    "    city_windspeed = city_windspeed.set_index([0])\n",
    "    city_windspeed.index = pd.to_datetime(city_windspeed.index)\n",
    "    \n",
    "    city_windspeed = city_windspeed.dropna()\n",
    "    \n",
    "    sns.distplot(city_windspeed,color='brown')\n",
    "    plt.title('Distribution of wind speed')\n",
    "    plt.xlabel('Freq')\n",
    "    plt.ylabel('Value')\n",
    "    \n",
    "    #defining subplot\n",
    "    plt.subplot(3,3,5)\n",
    "    \n",
    "    string = \"Select datetime,\\\"\"+city+\"\\\" from wind_direction;\"\n",
    "    [names,winddirection_list] = select(conn,string)\n",
    "    \n",
    "    #converting to dataframe\n",
    "    city_winddirection = pd.DataFrame(winddirection_list)\n",
    "    \n",
    "    #setting datetime as index\n",
    "    city_winddirection = city_winddirection.set_index([0])\n",
    "    city_winddirection.index = pd.to_datetime(city_winddirection.index)\n",
    "    \n",
    "    city_winddirection = city_winddirection.dropna()\n",
    "    \n",
    "    sns.distplot(city_winddirection,color='yellow')\n",
    "    plt.title('Distribution of wind direction')\n",
    "    plt.xlabel('Freq')\n",
    "    plt.ylabel('Value')\n",
    "    \n",
    "    plt.tight_layout()\n",
    "    plt.show()\n",
    "    \n",
    "##\n",
    "city_parameter()"
   ]
  },
  {
   "cell_type": "markdown",
   "metadata": {},
   "source": [
    "### Parameter Relation Function"
   ]
  },
  {
   "cell_type": "code",
   "execution_count": null,
   "metadata": {},
   "outputs": [],
   "source": [
    "def parameter_relation(city='Portland',parameter1='humdity',parameter2='temperature'):\n",
    "    \n",
    "    string = \"Select datetime,\\\"\"+city+\"\\\" from \"+ parameter1 +\";\"\n",
    "    [names,parameter1_list] = select(conn,string)\n",
    "    \n",
    "    #converting to dataframe\n",
    "    city_parameter1 = pd.DataFrame(parameter1_list)\n",
    "    \n",
    "    #setting datetime as index\n",
    "    city_parameter1 = city_parameter1.set_index([0])\n",
    "    city_parameter1.index = pd.to_datetime(city_parameter1.index)\n",
    "    \n",
    "    #city_parameter1 = city_parameter1.dropna()\n",
    "    \n",
    "    string = \"Select datetime,\\\"\"+city+\"\\\" from \"+ parameter2 +\";\"\n",
    "    [names,city_parameter2_list] = select(conn,string)\n",
    "    \n",
    "    #converting to dataframe\n",
    "    city_parameter2 = pd.DataFrame(city_parameter2_list)\n",
    "    \n",
    "    #setting datetime as index\n",
    "    city_parameter2 = city_parameter2.set_index([0])\n",
    "    city_parameter2.index = pd.to_datetime(city_parameter2.index)\n",
    "    \n",
    "    #city_parameter2 = city_parameter2.dropna()\n",
    "    \n",
    "    plt.scatter(x=city_parameter1,y=city_parameter2,color='orange')\n",
    "    plt.title(parameter1 + ' vs '+ parameter2)\n",
    "    plt.xlabel(parameter1)\n",
    "    plt.ylabel(parameter2)\n",
    "    plt.show()\n",
    "    \n",
    "##\n",
    "parameter_relation('New York','pressure','wind_speed')"
   ]
  },
  {
   "cell_type": "markdown",
   "metadata": {},
   "source": [
    "### Weather Description Function"
   ]
  },
  {
   "cell_type": "code",
   "execution_count": null,
   "metadata": {},
   "outputs": [],
   "source": [
    "def city_weather_description(city='Boston'):\n",
    "    \n",
    "    plt.figure(figsize=(30,30))\n",
    "    \n",
    "    string = \"\"\"Select p.datetime,p.[\"\"\"+city+\"\"\"],wd.[\"\"\"+city+\"\"\"]\n",
    "                 from pressure as p\n",
    "                 INNER JOIN weather_description as wd on p.datetime=wd.datetime\"\"\"\n",
    "    \n",
    "    [names,pressure_description_list] = select(conn,string)\n",
    "    \n",
    "    #converting to dataframe\n",
    "    city_pressure_description = pd.DataFrame(pressure_description_list)\n",
    "    \n",
    "    #setting datetime as index\n",
    "    city_pressure_description = city_pressure_description.set_index([0])\n",
    "    city_pressure_description.index = pd.to_datetime(city_pressure_description.index)\n",
    "    \n",
    "    city_pressure_description.groupby(2).count()[1].plot(kind='bar',color='purple')\n",
    "    plt.title('Count of Weather Description',fontsize= 30)\n",
    "    plt.xlabel('Weather Description', fontsize= 30)\n",
    "    plt.rcParams.update({'font.size': 30})\n",
    "    \n",
    "  \n",
    "##\n",
    "city_weather_description()"
   ]
  },
  {
   "cell_type": "markdown",
   "metadata": {},
   "source": [
    "### City Monthly Parameter Flactualtion Function"
   ]
  },
  {
   "cell_type": "code",
   "execution_count": null,
   "metadata": {},
   "outputs": [],
   "source": [
    "def parameter_monthly_flctuations(city='Portland'):\n",
    "    \n",
    "    #plot figure\n",
    "    plt.figure(figsize=(15,15))\n",
    "    \n",
    "    #SQL\n",
    "    string = \"Select datetime,\\\"\"+city+\"\\\" from temperature;\"\n",
    "    [names,temperature_list] = select(conn,string)\n",
    "\n",
    "    #convert ing to dataframe\n",
    "    city_temperature = pd.DataFrame(temperature_list)\n",
    "\n",
    "    #setting datetime as index\n",
    "    time = pd.DatetimeIndex(city_temperature[0])\n",
    "    city_temperature['month']=time.month\n",
    "\n",
    "    plt.subplot(3,3,1)\n",
    "    plot_temperature = sns.boxplot(x='month',y=1,data=city_temperature)\n",
    "    plot_temperature.set(ylabel=\"Tempreture\")\n",
    "    plt.title('Temperature across month box plot')\n",
    "    \n",
    "    #SQL\n",
    "    string = \"Select datetime,\\\"\"+city+\"\\\" from pressure;\"\n",
    "    [names,pressure_list] = select(conn,string)\n",
    "\n",
    "    #convert ing to dataframe\n",
    "    city_pressure = pd.DataFrame(pressure_list)\n",
    "\n",
    "    #setting datetime as index\n",
    "    time = pd.DatetimeIndex(city_pressure[0])\n",
    "    city_pressure['month']=time.month\n",
    "    \n",
    "    plt.subplot(3,3,2)\n",
    "    plot_pressure = sns.boxplot(x='month',y=1,data=city_pressure)\n",
    "    plot_pressure.set(ylabel=\"Pressure\")\n",
    "    plt.title('Pressure across month box plot')\n",
    "    \n",
    "    #SQL\n",
    "    string = \"Select datetime,\\\"\"+city+\"\\\" from humidity;\"\n",
    "    [names,humidity_list] = select(conn,string)\n",
    "\n",
    "    #convert ing to dataframe\n",
    "    city_humidity = pd.DataFrame(humidity_list)\n",
    "\n",
    "    #setting datetime as index\n",
    "    time = pd.DatetimeIndex(city_humidity[0])\n",
    "    city_humidity['month']=time.month\n",
    "    \n",
    "    plt.subplot(3,3,3)\n",
    "    plot_humidity = sns.boxplot(x='month',y=1,data=city_humidity)\n",
    "    plot_humidity.set(ylabel=\"Humidity\")\n",
    "    plt.title('Humidity across month box plot')\n",
    "    \n",
    "    #SQL\n",
    "    string = \"Select datetime,\\\"\"+city+\"\\\" from wind_speed;\"\n",
    "    [names,windspeed_list] = select(conn,string)\n",
    "\n",
    "    #convert ing to dataframe\n",
    "    city_windspeed = pd.DataFrame(windspeed_list)\n",
    "\n",
    "    #setting datetime as index\n",
    "    time = pd.DatetimeIndex(city_windspeed[0])\n",
    "    city_windspeed['month']=time.month\n",
    "    \n",
    "    plt.subplot(3,3,4)\n",
    "    plot_windspeed = sns.boxplot(x='month',y=1,data=city_windspeed)\n",
    "    plot_windspeed.set(ylabel=\"Wind speed\")\n",
    "    plt.title('Wind speed across month box plot')\n",
    "    \n",
    "    #SQL\n",
    "    string = \"Select datetime,\\\"\"+city+\"\\\" from wind_direction;\"\n",
    "    [names,winddirection_list] = select(conn,string)\n",
    "\n",
    "    #convert ing to dataframe\n",
    "    city_winddirection = pd.DataFrame(winddirection_list)\n",
    "\n",
    "    #setting datetime as index\n",
    "    time = pd.DatetimeIndex(city_winddirection[0])\n",
    "    city_winddirection['month']=time.month\n",
    "    \n",
    "    plt.subplot(3,3,5)\n",
    "    plot_winddirection = sns.boxplot(x='month',y=1,data=city_winddirection)\n",
    "    plot_winddirection.set(ylabel=\"Wind direction\")\n",
    "    \n",
    "    plt.title('Wind direction across month box plot')\n",
    "    plt.tight_layout()\n",
    "    plt.show()\n",
    "parameter_monthly_flctuations()"
   ]
  },
  {
   "cell_type": "markdown",
   "metadata": {},
   "source": [
    "### City Weekly Parameter Flactualtion Over Function"
   ]
  },
  {
   "cell_type": "code",
   "execution_count": null,
   "metadata": {},
   "outputs": [],
   "source": [
    "def parameter_weekly_flctuations(city='Portland'):\n",
    "\n",
    "    #plot figure\n",
    "    plt.figure(figsize=(15,15))\n",
    "\n",
    "    #SQL\n",
    "    string = \"Select datetime,\\\"\"+city+\"\\\" from temperature;\"\n",
    "    [names,temperature_list] = select(conn,string)\n",
    "\n",
    "    #convert ing to dataframe\n",
    "    city_temperature = pd.DataFrame(temperature_list)\n",
    "\n",
    "    #setting datetime as index\n",
    "    time = pd.DatetimeIndex(city_temperature[0])\n",
    "    city_temperature['week']=time.week\n",
    "\n",
    "    plt.subplot(3,3,1)\n",
    "    plot_temperature = sns.lineplot(x='week',y=1,data=city_temperature)\n",
    "    plot_temperature.set(ylabel=\"Tempreture\")\n",
    "    plt.title('Temperature across week box plot')\n",
    "\n",
    "    #SQL\n",
    "    string = \"Select datetime,\\\"\"+city+\"\\\" from pressure;\"\n",
    "    [names,pressure_list] = select(conn,string)\n",
    "\n",
    "    #convert ing to dataframe\n",
    "    city_pressure = pd.DataFrame(pressure_list)\n",
    "\n",
    "    #setting datetime as index\n",
    "    time = pd.DatetimeIndex(city_pressure[0])\n",
    "    city_pressure['week']=time.week\n",
    "\n",
    "    plt.subplot(3,3,2)\n",
    "    plot_pressure = sns.lineplot(x='week',y=1,data=city_pressure)\n",
    "    plot_pressure.set(ylabel=\"Pressure\")\n",
    "    plt.title('Pressure across month box plot')\n",
    "\n",
    "    #SQL\n",
    "    string = \"Select datetime,\\\"\"+city+\"\\\" from humidity;\"\n",
    "    [names,humidity_list] = select(conn,string)\n",
    "\n",
    "    #convert ing to dataframe\n",
    "    city_humidity = pd.DataFrame(humidity_list)\n",
    "\n",
    "    #setting datetime as index\n",
    "    time = pd.DatetimeIndex(city_humidity[0])\n",
    "    city_humidity['week']=time.week\n",
    "\n",
    "    plt.subplot(3,3,3)\n",
    "    plot_humidity = sns.lineplot(x='week',y=1,data=city_humidity)\n",
    "    plot_humidity.set(ylabel=\"Humidity\")\n",
    "    plt.title('Humidity across week box plot')\n",
    "\n",
    "    #SQL\n",
    "    string = \"Select datetime,\\\"\"+city+\"\\\" from wind_speed;\"\n",
    "    [names,windspeed_list] = select(conn,string)\n",
    "\n",
    "    #convert ing to dataframe\n",
    "    city_windspeed = pd.DataFrame(windspeed_list)\n",
    "\n",
    "    #setting datetime as index\n",
    "    time = pd.DatetimeIndex(city_windspeed[0])\n",
    "    city_windspeed['week']=time.week\n",
    "\n",
    "    plt.subplot(3,3,4)\n",
    "    plot_windspeed = sns.lineplot(x='week',y=1,data=city_windspeed)\n",
    "    plot_windspeed.set(ylabel=\"Wind speed\")\n",
    "    plt.title('Wind speed across week box plot')\n",
    "\n",
    "    #SQL\n",
    "    string = \"Select datetime,\\\"\"+city+\"\\\" from wind_direction;\"\n",
    "    [names,winddirection_list] = select(conn,string)\n",
    "\n",
    "    #convert ing to dataframe\n",
    "    city_winddirection = pd.DataFrame(winddirection_list)\n",
    "\n",
    "    #setting datetime as index\n",
    "    time = pd.DatetimeIndex(city_winddirection[0])\n",
    "    city_winddirection['week']=time.week\n",
    "\n",
    "    plt.subplot(3,3,5)\n",
    "    plot_winddirection = sns.lineplot(x='week',y=1,data=city_winddirection)\n",
    "    plot_winddirection.set(ylabel=\"Wind direction\")\n",
    "\n",
    "    plt.title('Wind direction across week box plot')\n",
    "    plt.tight_layout()\n",
    "    plt.show()\n",
    "parameter_weekly_flctuations()"
   ]
  },
  {
   "cell_type": "code",
   "execution_count": null,
   "metadata": {},
   "outputs": [],
   "source": [
    "Yr_df = pd.read_sql_query(\"SELECT DISTINCT Yr from USA_Historical_Tornado\", conn)\n",
    "Tor_df = pd.read_sql_query(\"SELECT st,len,\\\"start lat\\\",\\\"start lon\\\",\\\"fin lat\\\",\\\"fin lon\\\" from USA_Historical_Tornado WHERE Yr = 1950\", conn)\n",
    "City_at_df = pd.read_sql_query(\"Select City,Latitude,Longitude from cities WHERE country = 'United States'\", conn)"
   ]
  },
  {
   "cell_type": "code",
   "execution_count": null,
   "metadata": {},
   "outputs": [],
   "source": [
    "Yr_list = Yr_df['Yr'].values.tolist()"
   ]
  },
  {
   "cell_type": "code",
   "execution_count": null,
   "metadata": {},
   "outputs": [],
   "source": [
    "m=widgets.Dropdown(\n",
    "    options=Yr_list,\n",
    "    description='Year:',\n",
    "    disabled=False,\n",
    ")\n",
    "display(m)\n",
    "fig = go.Figure()\n",
    "\n",
    "\n",
    "fig.add_trace(go.Scattergeo(\n",
    "        locationmode = 'USA-states',\n",
    "        lon = Tor_df['start lon'],\n",
    "        lat = Tor_df['start lat'],\n",
    "        text = Tor_df['st'],\n",
    "        mode = 'markers',\n",
    "        marker = dict(\n",
    "            size = 8,\n",
    "            opacity = 0.8,\n",
    "            reversescale = False,\n",
    "            autocolorscale = False,\n",
    "            symbol = 'square',\n",
    "            line = dict(\n",
    "                width=0.1,\n",
    "                color='black'\n",
    "            ),\n",
    "            colorscale = 'darkmint',\n",
    "            cmin = 0,\n",
    "            color = Tor_df['len'],\n",
    "            cmax = Tor_df['len'].max(),\n",
    "            colorbar_title=\"Length of Tornadoes\"\n",
    "        )))\n",
    "\n",
    "fig.add_trace(go.Scattergeo(\n",
    "    locationmode = 'USA-states',\n",
    "    text = City_at_df['City'],   \n",
    "    lon = City_at_df['Longitude'],\n",
    "    lat = City_at_df['Latitude'],\n",
    "    mode = 'markers+text',\n",
    "    textposition = 'bottom center',\n",
    "    marker_color = 'maroon',\n",
    "    ))\n",
    "\n",
    "\n",
    "fig.update_layout(\n",
    "    title_text = 'Tornadoes in the Year 1950',\n",
    "    showlegend = False,\n",
    "    geo = go.layout.Geo(\n",
    "        scope = 'usa',\n",
    "        projection_type = 'albers usa',\n",
    "        showland = True,\n",
    "        landcolor = 'lightgray',\n",
    "        countrycolor = 'white',\n",
    "    ),\n",
    ")\n",
    "\n",
    "fig.show()\n",
    "\n",
    "def on_change(change):\n",
    "    clear_output()\n",
    "    display(m)\n",
    "    input_val=str(change['owner'])[-5:-1]\n",
    "    Tor_df = pd.read_sql_query(\"SELECT st,len,\\\"start lat\\\",\\\"start lon\\\",\\\"fin lat\\\",\\\"fin lon\\\" from USA_Historical_Tornado WHERE Yr =\"+input_val, conn)\n",
    "    \n",
    "    fig = go.Figure()\n",
    "\n",
    "    fig.add_trace(go.Scattergeo(\n",
    "        locationmode = 'USA-states',\n",
    "        lon = Tor_df['start lon'],\n",
    "        lat = Tor_df['start lat'],\n",
    "        text = Tor_df['st'],\n",
    "        mode = 'markers',\n",
    "        marker = dict(\n",
    "            size = 8,\n",
    "            opacity = 0.8,\n",
    "            reversescale = False,\n",
    "            autocolorscale = False,\n",
    "            symbol = 'square',\n",
    "            line = dict(\n",
    "                width=0.1,\n",
    "                color='black'\n",
    "            ),\n",
    "            colorscale = 'darkmint',\n",
    "            cmin = 0,\n",
    "            color = Tor_df['len'],\n",
    "            cmax = Tor_df['len'].max(),\n",
    "            colorbar_title=\"Length of Tornadoes\"\n",
    "    )))\n",
    "\n",
    "    fig.add_trace(go.Scattergeo(\n",
    "        locationmode = 'USA-states',\n",
    "        text = City_at_df['City'],   \n",
    "        lon = City_at_df['Longitude'],\n",
    "        lat = City_at_df['Latitude'],\n",
    "        mode = 'markers+text',\n",
    "        textposition = 'bottom center',\n",
    "        marker_color = 'maroon',\n",
    "    ))\n",
    "\n",
    "\n",
    "    fig.update_layout(\n",
    "        title_text = 'Tornadoes in the Year '+input_val,\n",
    "        showlegend = False,\n",
    "        geo = go.layout.Geo(\n",
    "            scope = 'usa',\n",
    "            projection_type = 'albers usa',\n",
    "            showland = True,\n",
    "            landcolor = 'lightgray',\n",
    "            countrycolor = 'white',\n",
    "        ),\n",
    "    )\n",
    "\n",
    "    fig.show()\n",
    "m.observe(on_change)\n",
    "    "
   ]
  },
  {
   "cell_type": "code",
   "execution_count": null,
   "metadata": {},
   "outputs": [],
   "source": []
  }
 ],
 "metadata": {
  "kernelspec": {
   "display_name": "Python 3",
   "language": "python",
   "name": "python3"
  },
  "language_info": {
   "codemirror_mode": {
    "name": "ipython",
    "version": 3
   },
   "file_extension": ".py",
   "mimetype": "text/x-python",
   "name": "python",
   "nbconvert_exporter": "python",
   "pygments_lexer": "ipython3",
   "version": "3.7.4"
  }
 },
 "nbformat": 4,
 "nbformat_minor": 2
}
